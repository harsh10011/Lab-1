{
 "cells": [
  {
   "cell_type": "markdown",
   "id": "acc14bd7",
   "metadata": {},
   "source": [
    "## Student Info:\n",
    "Name : Harsh Thesia <br>\n",
    "Stu Id : 100809874 <br>\n",
    "Date : 19th October 2022"
   ]
  },
  {
   "cell_type": "code",
   "execution_count": null,
   "id": "1c00ecae",
   "metadata": {},
   "outputs": [],
   "source": [
    "from typing import List"
   ]
  },
  {
   "cell_type": "code",
   "execution_count": 10,
   "id": "f6c72833",
   "metadata": {},
   "outputs": [],
   "source": [
    "#Creating pizza class\n",
    "\n",
    "class Pizza:\n",
    "    psize = {'small': 6.49 ,'Medium': 8.49 ,'large': 10.49 ,'x-large':13.49} #making list of differnt size pizza and their price\n",
    "    topping_price = 0.5 \n",
    "\n",
    "    def __init__(self,size='Medium',toppings=['cheese']): #Defining the function for topping and size\n",
    "        self.size= size\n",
    "        self.__toppings = toppings\n",
    "        \n",
    "    def add(self, toppings:List[str]):   #define the function to extend the topping in pizza\n",
    "        self.__toppings.extend(toppings)\n",
    "    \n",
    "    #Defining the various functions if one wanted to make pizza manually or choosing their topppings by themselves. \n",
    "    \n",
    "    @property\n",
    "    def size(self):\n",
    "        return self.__size\n",
    "\n",
    "    @size.setter\n",
    "    def size(self,size):\n",
    "        if size not in Pizza.psize:\n",
    "            raise ValueError(f'Error: {size} is not vaid size for our Pizza')\n",
    "        self.__size = size\n",
    "    \n",
    "    @property\n",
    "    def cost(self):\n",
    "        return Pizza.psize[(self.__size)]+ len(self.__toppings)* Pizza.topping_price\n",
    "    def __str__(self):\n",
    "        return f'{self.__size} Pizza with {self.__toppings} for ${self.cost:.2f}'"
   ]
  },
  {
   "cell_type": "code",
   "execution_count": 11,
   "id": "6ff57984",
   "metadata": {},
   "outputs": [
    {
     "name": "stdout",
     "output_type": "stream",
     "text": [
      "Creating a default pizza\n",
      "Medium Pizza with ['cheese'] for $8.99\n",
      "\n",
      "Adding topping: ['cheese', 'olive']\n",
      "Medium Pizza with ['cheese', 'cheese', 'olive'] for $9.99\n",
      "\n",
      "Creating a new pizza\n",
      "large Pizza with ['cheese', 'pepper'] for $11.49\n",
      "\n",
      "Adding topping: ['pineapple', 'mushroom']\n",
      "large Pizza with ['cheese', 'pepper', 'pineapple', 'mushroom'] for $12.49\n",
      "\n",
      "Changing order size to x-large\n",
      "x-large Pizza with ['cheese', 'pepper', 'pineapple', 'mushroom'] for $15.49\n",
      "\n",
      "Changing order size to gigantic\n",
      "Error: gigantic is not vaid size for our Pizza\n"
     ]
    }
   ],
   "source": [
    "# The test harness given as input in the file\n",
    "\n",
    "print(f'Creating a default pizza')\n",
    "p = Pizza()\n",
    "print(p)\n",
    "\n",
    "toppings = 'cheese olive'.split()\n",
    "print(f'\\nAdding topping: {toppings}')\n",
    "p.add(toppings=toppings)\n",
    "print(p)\n",
    "\n",
    "print(f'\\nCreating a new pizza')\n",
    "p = Pizza('large', 'cheese pepper'.split())\n",
    "print(p)\n",
    "\n",
    "toppings = ['pineapple', 'mushroom']\n",
    "print(f'\\nAdding topping: {toppings}')\n",
    "p.add(toppings)\n",
    "print(p)\n",
    "\n",
    "size = 'x-large'\n",
    "p.size = size\n",
    "print(f'\\nChanging order size to {size}')\n",
    "print(p)\n",
    "\n",
    "size = 'gigantic'\n",
    "print(f'\\nChanging order size to {size}')\n",
    "try:\n",
    "  p.size = size\n",
    "except ValueError as err:\n",
    "  print(err) "
   ]
  }
 ],
 "metadata": {
  "kernelspec": {
   "display_name": "Python 3 (ipykernel)",
   "language": "python",
   "name": "python3"
  },
  "language_info": {
   "codemirror_mode": {
    "name": "ipython",
    "version": 3
   },
   "file_extension": ".py",
   "mimetype": "text/x-python",
   "name": "python",
   "nbconvert_exporter": "python",
   "pygments_lexer": "ipython3",
   "version": "3.9.7"
  }
 },
 "nbformat": 4,
 "nbformat_minor": 5
}
